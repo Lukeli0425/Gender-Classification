{
 "cells": [
  {
   "cell_type": "markdown",
   "id": "3b531cf0",
   "metadata": {},
   "source": [
    "## 人脸分类大作业\n",
    "### 无91 2019011559 李天骜"
   ]
  },
  {
   "cell_type": "markdown",
   "id": "de739046",
   "metadata": {},
   "source": [
    "0、准备工作"
   ]
  },
  {
   "cell_type": "code",
   "execution_count": 1,
   "id": "d956802b",
   "metadata": {},
   "outputs": [],
   "source": [
    "import random\n",
    "import tensorflow as tf\n",
    "from tensorflow.keras import datasets, layers, models\n",
    "import matplotlib.pyplot as plt\n",
    "import os\n",
    "os.environ[\"KMP_DUPLICATE_LIB_OK\"]=\"TRUE\" #不加这个会报错"
   ]
  },
  {
   "cell_type": "markdown",
   "id": "2c868745",
   "metadata": {},
   "source": [
    "1、读取下标集文件"
   ]
  },
  {
   "cell_type": "code",
   "execution_count": 2,
   "id": "c67b0283",
   "metadata": {},
   "outputs": [
    {
     "name": "stdout",
     "output_type": "stream",
     "text": [
      "There are 10268 male pictures and 2966 female pictures.\n",
      "\n"
     ]
    }
   ],
   "source": [
    "male_file = \"male_names.txt\"\n",
    "female_file = \"female_names.txt\"\n",
    "\n",
    "male_name = []\n",
    "female_name = []\n",
    "\n",
    "with open(male_file) as male_file_object:\n",
    "    for line in male_file_object:\n",
    "        line = line[0:-1]#去除换行符\n",
    "        male_name.append(line)\n",
    "male_naem = male_name[0:-1]\n",
    "with open(female_file) as female_file_object:\n",
    "    for line in female_file_object:\n",
    "        line = line[0:-1]#去除换行符\n",
    "        female_name.append(line)\n",
    "#random.shuffle(male_name)\n",
    "print(f\"There are {len(male_name)} male pictures and {len(female_name)} female pictures.\\n\")"
   ]
  },
  {
   "cell_type": "markdown",
   "id": "3933d7e3",
   "metadata": {},
   "source": [
    "2、读取图片文件"
   ]
  },
  {
   "cell_type": "markdown",
   "id": "9d9a169b",
   "metadata": {
    "code_folding": []
   },
   "source": [
    "#将男女图片分开，分别存到两个文件夹中,并在文件名标注性别\n",
    "train_dir = \"/Users/Luke/Jupyter/Summer_Python/photos/\"\n",
    "for name in male_name:\n",
    "    image =  tf.io.read_file(f\"/Users/Luke/Jupyter/Summer_Python/lfw_funneled/{name[0:-9]}/{name}\")\n",
    "    tf.io.write_file(f\"{train_dir}male-{name}\",image)\n",
    "    \n",
    "for name in female_name:\n",
    "    image =  tf.io.read_file(f\"/Users/Luke/Jupyter/Summer_Python/lfw_funneled/{name[0:-9]}/{name}\")\n",
    "    tf.io.write_file(f\"{train_dir}female-{name}\",image)"
   ]
  },
  {
   "cell_type": "code",
   "execution_count": 3,
   "id": "97db6a20",
   "metadata": {
    "code_folding": []
   },
   "outputs": [
    {
     "name": "stdout",
     "output_type": "stream",
     "text": [
      "There are 13234 sets of data in total.\n"
     ]
    }
   ],
   "source": [
    "#文件名+标签的元组组成examples列表\n",
    "examples = []\n",
    "for name in male_name:\n",
    "    image =  tf.io.read_file(f\"/Users/Luke/Jupyter/Summer_Python/male/{name}\")\n",
    "    image_tensor = tf.image.decode_jpeg(image)\n",
    "    #image_resized = tf.image.resize(image_tensor,[256,256])/255.0\n",
    "    examples.append((image_tensor,0))\n",
    "    \n",
    "for name in female_name:\n",
    "    image =  tf.io.read_file(f\"/Users/Luke/Jupyter/Summer_Python/female/{name}\")\n",
    "    image_tensor = tf.image.decode_jpeg(image)\n",
    "    #image_resized = tf.image.resize(image_tensor,[265,256])/255.0\n",
    "    examples.append((image_tensor,1))\n",
    "\n",
    "print(f\"There are {len(examples)} sets of data in total.\")"
   ]
  },
  {
   "cell_type": "markdown",
   "id": "7f7e4395",
   "metadata": {},
   "source": [
    "3、并随机选择40％、10％、50％的数据，分别作为训练、验证和测试集"
   ]
  },
  {
   "cell_type": "code",
   "execution_count": null,
   "id": "5a600af2",
   "metadata": {},
   "outputs": [],
   "source": [
    "#随机打乱\n",
    "random.shuffle(examples)\n",
    "\n",
    "#取50%作为训练样例\n",
    "train_data = []\n",
    "train_labels = []\n",
    "for (data,label) in examples[0:6617]:\n",
    "    train_data.append(data)\n",
    "    train_labels.append(label)\n",
    "train_labels = tf.convert_to_tensor(train_labels, dtype=tf.int32)\n",
    "train_data = tf.convert_to_tensor(train_data, dtype=tf.float32)/255.0\n",
    "print(\"train data done\")\n",
    "\n",
    "#取10%作为验证样例\n",
    "valid_data = []\n",
    "valid_labels = []\n",
    "for (data,label) in examples[6617:7917]:\n",
    "    valid_data.append(data)\n",
    "    valid_labels.append(label)\n",
    "valid_labels = tf.convert_to_tensor(valid_labels, dtype=tf.int32)\n",
    "valid_data = tf.convert_to_tensor(valid_data, dtype=tf.float32)/255.0\n",
    "print(\"valid data done\")\n",
    "\n",
    "#取10%作为测试样例\n",
    "test_data = []\n",
    "test_labels = []\n",
    "for (data,label) in examples[7917:-1]:\n",
    "    test_data.append(data)\n",
    "    test_labels.append(label)\n",
    "test_labels = tf.convert_to_tensor(test_labels, dtype=tf.int32)\n",
    "test_data = tf.convert_to_tensor(test_data, dtype=tf.float32)/255.0\n",
    "print(\"test data done\")"
   ]
  },
  {
   "cell_type": "markdown",
   "id": "8647abd3",
   "metadata": {},
   "source": [
    "4、训练模型"
   ]
  },
  {
   "cell_type": "code",
   "execution_count": null,
   "id": "09a3dfda",
   "metadata": {
    "code_folding": []
   },
   "outputs": [],
   "source": [
    "model = models.Sequential()\n",
    "model.add(layers.Conv2D(32, (3, 3), activation='relu', input_shape=(250, 250, 3)))\n",
    "model.add(layers.MaxPooling2D((2, 2)))\n",
    "model.add(layers.Conv2D(64, (3, 3), activation='relu'))\n",
    "model.add(layers.MaxPooling2D((2, 2)))\n",
    "model.add(layers.Conv2D(64, (3, 3), activation='relu'))\n",
    "model.add(layers.MaxPooling2D((2, 2)))\n",
    "model.add(layers.Conv2D(64, (3, 3), activation='relu'))\n",
    "model.add(layers.MaxPooling2D((2, 2)))\n",
    "model.add(layers.Conv2D(64, (3, 3), activation='relu'))\n",
    "\n",
    "model.add(layers.Flatten())\n",
    "model.add(layers.Dense(32, activation='relu'))\n",
    "model.add(layers.Dense(2))\n",
    "\n",
    "model.summary()"
   ]
  },
  {
   "cell_type": "code",
   "execution_count": null,
   "id": "f5174504",
   "metadata": {
    "code_folding": [],
    "scrolled": true
   },
   "outputs": [],
   "source": [
    "# 训练模型\n",
    "model.compile(optimizer='adam',\n",
    "              loss=tf.keras.losses.SparseCategoricalCrossentropy(from_logits=True),\n",
    "              metrics=['accuracy'])\n",
    "\n",
    "history = model.fit(train_data, train_labels, epochs=10,\n",
    "                    validation_data=(valid_data, valid_labels))"
   ]
  },
  {
   "cell_type": "markdown",
   "id": "b38905de",
   "metadata": {},
   "source": [
    "5、评估模型"
   ]
  },
  {
   "cell_type": "code",
   "execution_count": null,
   "id": "beb4db6f",
   "metadata": {},
   "outputs": [],
   "source": [
    "plt.plot(history.history['accuracy'], label='accuracy')\n",
    "plt.plot(history.history['val_accuracy'], label = 'val_accuracy')\n",
    "plt.xlabel('Epoch')\n",
    "plt.ylabel('Accuracy')\n",
    "plt.ylim([0.5, 1])\n",
    "plt.legend(loc='lower right')\n",
    "plt.show()\n",
    "\n",
    "test_loss, test_acc = model.evaluate(test_data,test_labels, verbose=2)"
   ]
  },
  {
   "cell_type": "code",
   "execution_count": null,
   "id": "3ff813cd",
   "metadata": {},
   "outputs": [],
   "source": [
    "print(test_acc)"
   ]
  }
 ],
 "metadata": {
  "kernelspec": {
   "display_name": "tf2",
   "language": "python",
   "name": "tf2"
  },
  "language_info": {
   "codemirror_mode": {
    "name": "ipython",
    "version": 3
   },
   "file_extension": ".py",
   "mimetype": "text/x-python",
   "name": "python",
   "nbconvert_exporter": "python",
   "pygments_lexer": "ipython3",
   "version": "3.7.10"
  },
  "latex_envs": {
   "LaTeX_envs_menu_present": true,
   "autoclose": false,
   "autocomplete": true,
   "bibliofile": "biblio.bib",
   "cite_by": "apalike",
   "current_citInitial": 1,
   "eqLabelWithNumbers": true,
   "eqNumInitial": 1,
   "hotkeys": {
    "equation": "Ctrl-E",
    "itemize": "Ctrl-I"
   },
   "labels_anchors": false,
   "latex_user_defs": false,
   "report_style_numbering": false,
   "user_envs_cfg": false
  }
 },
 "nbformat": 4,
 "nbformat_minor": 5
}
